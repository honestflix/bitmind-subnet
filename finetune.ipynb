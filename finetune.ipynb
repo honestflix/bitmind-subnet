{
 "cells": [
  {
   "cell_type": "code",
   "execution_count": null,
   "outputs": [],
   "source": [
    "import os\n",
    "import time\n",
    "from tensorboardX import SummaryWriter\n",
    "\n",
    "from UniversalFakeDetect.validate import validate\n",
    "from UniversalFakeDetect.data import create_dataloader\n",
    "from UniversalFakeDetect.earlystop import EarlyStopping\n",
    "from UniversalFakeDetect.networks.trainer import Trainer\n",
    "from UniversalFakeDetect.options.train_options import TrainOptions"
   ],
   "metadata": {
    "collapsed": false
   },
   "id": "8833caf31d096ad6"
  },
  {
   "cell_type": "code",
   "execution_count": null,
   "outputs": [],
   "source": [
    "\n",
    "\"\"\"Currently assumes jpg_prob, blur_prob 0 or 1\"\"\"\n",
    "def get_val_opt():\n",
    "    val_opt = TrainOptions().parse(print_options=False)\n",
    "    val_opt.isTrain = False\n",
    "    val_opt.no_resize = False\n",
    "    val_opt.no_crop = False\n",
    "    val_opt.serial_batches = True\n",
    "    val_opt.data_label = 'val'\n",
    "    val_opt.jpg_method = ['pil']\n",
    "    if len(val_opt.blur_sig) == 2:\n",
    "        b_sig = val_opt.blur_sig\n",
    "        val_opt.blur_sig = [(b_sig[0] + b_sig[1]) / 2]\n",
    "    if len(val_opt.jpg_qual) != 1:\n",
    "        j_qual = val_opt.jpg_qual\n",
    "        val_opt.jpg_qual = [int((j_qual[0] + j_qual[-1]) / 2)]\n",
    "\n",
    "    return val_opt\n"
   ],
   "metadata": {
    "collapsed": false
   },
   "id": "29c68ab51ba05e72"
  },
  {
   "cell_type": "code",
   "execution_count": null,
   "outputs": [],
   "source": [
    "from bitmind.real_fake_dataset import RealFakeDataset\n",
    "from bitmind.real_image_dataset import RealImageDataset\n",
    "#from bitmind.random_image_generator import RandomImageGenerator\n",
    "\n",
    "real_image_dataset = RealImageDataset(huggingface_datasets=['dalle-mini/open-images'])\n",
    "fake_image_dataset = RealImageDataset(huggingface_datasets=['imagedir:./images'])\n",
    "\n",
    "dataset = RealFakeDataset(real_image_dataset=real_image_dataset, fake_image_dataset=fake_image_dataset)"
   ],
   "metadata": {
    "collapsed": false,
    "is_executing": true
   },
   "id": "438f3cca9493b58"
  },
  {
   "cell_type": "code",
   "execution_count": null,
   "id": "initial_id",
   "metadata": {
    "collapsed": true,
    "is_executing": true
   },
   "outputs": [],
   "source": [
    "\n",
    "opt = TrainOptions().parse()\n",
    "val_opt = get_val_opt()\n",
    "\n",
    "model = Trainer(opt)\n",
    "\n",
    "data_loader = create_dataloader(opt)\n",
    "val_loader = create_dataloader(val_opt)\n",
    "\n",
    "train_writer = SummaryWriter(os.path.join(opt.checkpoints_dir, opt.name, \"train\"))\n",
    "val_writer = SummaryWriter(os.path.join(opt.checkpoints_dir, opt.name, \"val\"))\n",
    "    \n",
    "early_stopping = EarlyStopping(patience=opt.earlystop_epoch, delta=-0.001, verbose=True)\n",
    "print (\"Length of data loader: %d\" %(len(data_loader)))\n",
    "\n"
   ]
  },
  {
   "cell_type": "code",
   "execution_count": null,
   "outputs": [],
   "source": [
    "    start_time = time.time()\n",
    "    for epoch in range(opt.niter):\n",
    "        \n",
    "        for i, data in enumerate(data_loader):\n",
    "            model.total_steps += 1\n",
    "\n",
    "            model.set_input(data)\n",
    "            model.optimize_parameters()\n",
    "\n",
    "            if model.total_steps % opt.loss_freq == 0:\n",
    "                print(\"Train loss: {} at step: {}\".format(model.loss, model.total_steps))\n",
    "                train_writer.add_scalar('loss', model.loss, model.total_steps)\n",
    "                print(\"Iter time: \", ((time.time()-start_time)/model.total_steps)  )\n",
    "\n",
    "            if model.total_steps in [10,30,50,100,1000,5000,10000] and False: # save models at these iters \n",
    "                model.save_networks('model_iters_%s.pth' % model.total_steps)\n",
    "\n",
    "        if epoch % opt.save_epoch_freq == 0:\n",
    "            print('saving the model at the end of epoch %d' % (epoch))\n",
    "            model.save_networks( 'model_epoch_best.pth' )\n",
    "            model.save_networks( 'model_epoch_%s.pth' % epoch )\n",
    "\n",
    "        # Validation\n",
    "        model.eval()\n",
    "        ap, r_acc, f_acc, acc = validate(model.model, val_loader)\n",
    "        val_writer.add_scalar('accuracy', acc, model.total_steps)\n",
    "        val_writer.add_scalar('ap', ap, model.total_steps)\n",
    "        print(\"(Val @ epoch {}) acc: {}; ap: {}\".format(epoch, acc, ap))\n",
    "\n",
    "        early_stopping(acc, model)\n",
    "        if early_stopping.early_stop:\n",
    "            cont_train = model.adjust_learning_rate()\n",
    "            if cont_train:\n",
    "                print(\"Learning rate dropped by 10, continue training...\")\n",
    "                early_stopping = EarlyStopping(patience=opt.earlystop_epoch, delta=-0.002, verbose=True)\n",
    "            else:\n",
    "                print(\"Early stopping.\")\n",
    "                break\n",
    "        model.train()\n",
    "\n"
   ],
   "metadata": {
    "collapsed": false
   },
   "id": "36634fa8d2774f92"
  }
 ],
 "metadata": {
  "kernelspec": {
   "display_name": "Python 3",
   "language": "python",
   "name": "python3"
  },
  "language_info": {
   "codemirror_mode": {
    "name": "ipython",
    "version": 2
   },
   "file_extension": ".py",
   "mimetype": "text/x-python",
   "name": "python",
   "nbconvert_exporter": "python",
   "pygments_lexer": "ipython2",
   "version": "2.7.6"
  }
 },
 "nbformat": 4,
 "nbformat_minor": 5
}
