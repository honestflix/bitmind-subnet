{
 "cells": [
  {
   "cell_type": "code",
   "execution_count": null,
   "id": "initial_id",
   "metadata": {
    "collapsed": true
   },
   "outputs": [],
   "source": [
    "import joblib"
   ]
  },
  {
   "cell_type": "code",
   "outputs": [],
   "source": [
    "results = joblib.load('results.pkl')"
   ],
   "metadata": {
    "collapsed": false
   },
   "id": "502196017e45459a",
   "execution_count": null
  },
  {
   "cell_type": "code",
   "outputs": [],
   "source": [
    "import pandas as pd \n",
    "\n",
    "df = pd.DataFrame(results)"
   ],
   "metadata": {
    "collapsed": false
   },
   "id": "f0af008b73288d6",
   "execution_count": null
  },
  {
   "cell_type": "code",
   "outputs": [],
   "source": [
    "df[df.correct == True].shape[0] / df.shape[0]"
   ],
   "metadata": {
    "collapsed": false
   },
   "id": "e0a79b3836fa61e3",
   "execution_count": null
  },
  {
   "cell_type": "code",
   "outputs": [],
   "source": [
    "from bitmind.real_image_dataset import download_image\n",
    "from PIL import Image\n",
    "import matplotlib.pyplot as plt\n",
    "\n",
    "for i, r in df.iterrows():\n",
    "    if 'https' in r['image']:\n",
    "        image = download_image(r['image'])\n",
    "    else:\n",
    "        image = Image.open(r['image'])\n",
    "    print(f\"Challenge {r['challenge']}, image {r['image']} ({r['correct']})\")\n",
    "    print(f\"Prediction: {r['prediction']}\")\n",
    "    print(f\"Label: {r['label']}\")\n",
    "    plt.imshow(image)    \n",
    "    plt.show()"
   ],
   "metadata": {
    "collapsed": false
   },
   "id": "a1c4ca078f846471",
   "execution_count": null
  },
  {
   "cell_type": "code",
   "outputs": [],
   "source": [],
   "metadata": {
    "collapsed": false
   },
   "id": "a03e740033d7237e"
  }
 ],
 "metadata": {
  "kernelspec": {
   "display_name": "Python 3",
   "language": "python",
   "name": "python3"
  },
  "language_info": {
   "codemirror_mode": {
    "name": "ipython",
    "version": 2
   },
   "file_extension": ".py",
   "mimetype": "text/x-python",
   "name": "python",
   "nbconvert_exporter": "python",
   "pygments_lexer": "ipython2",
   "version": "2.7.6"
  }
 },
 "nbformat": 4,
 "nbformat_minor": 5
}
